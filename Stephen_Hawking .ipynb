{
 "cells": [
  {
   "cell_type": "code",
   "execution_count": 1,
   "metadata": {
    "collapsed": true
   },
   "outputs": [],
   "source": [
    "from urllib.request import urlopen as uReq\n",
    "from bs4 import BeautifulSoup as soup"
   ]
  },
  {
   "cell_type": "code",
   "execution_count": 2,
   "metadata": {
    "collapsed": true
   },
   "outputs": [],
   "source": [
    "my_url = 'https://en.wikipedia.org/wiki/Stephen_Hawking'\n",
    "\n",
    "uclient = uReq(my_url)\n",
    "page_html = uclient.read()\n",
    "uclient.close()"
   ]
  },
  {
   "cell_type": "code",
   "execution_count": 3,
   "metadata": {},
   "outputs": [
    {
     "name": "stdout",
     "output_type": "stream",
     "text": [
      "[<table class=\"infobox biography vcard\" style=\"width:22em\">\n",
      "<tr>\n",
      "<th colspan=\"2\" style=\"text-align:center;font-size:125%;font-weight:bold\"><span class=\"fn\">Stephen Hawking</span><br/>\n",
      "<span class=\"honorific-suffix\" style=\"font-size: 77%; font-weight: normal;\"><span class=\"noexcerpt\" style=\"font-size:100%;\"><a class=\"mw-redirect\" href=\"/wiki/Companion_of_Honour\" title=\"Companion of Honour\">CH</a> <a class=\"mw-redirect\" href=\"/wiki/Commander_of_the_Order_of_the_British_Empire\" title=\"Commander of the Order of the British Empire\">CBE</a> <a href=\"/wiki/Fellow_of_the_Royal_Society\" title=\"Fellow of the Royal Society\">FRS</a> <a href=\"/wiki/Fellow_of_the_Royal_Society_of_Arts\" title=\"Fellow of the Royal Society of Arts\">FRSA</a></span></span></th>\n",
      "</tr>\n",
      "<tr>\n",
      "<td colspan=\"2\" style=\"text-align:center\"><a class=\"image\" href=\"/wiki/File:Stephen_Hawking.StarChild.jpg\" title=\"Black-and-white photograph of Stephen Hawking at NASA's StarChild Learning Center\"><img alt=\"Black-and-white photograph of Stephen Hawking at NASA's StarChild Learning Center\" data-file-height=\"359\" data-file-width=\"250\" height=\"316\" src=\"//upload.wikimedia.org/wikipedia/commons/thumb/e/eb/Stephen_Hawking.StarChild.jpg/220px-Stephen_Hawking.StarChild.jpg\" srcset=\"//upload.wikimedia.org/wikipedia/commons/e/eb/Stephen_Hawking.StarChild.jpg 1.5x\" width=\"220\"/></a>\n",
      "<div>Hawking at <a href=\"/wiki/NASA\" title=\"NASA\">NASA</a>'s StarChild Learning Center, 1980s</div>\n",
      "</td>\n",
      "</tr>\n",
      "<tr>\n",
      "<th scope=\"row\">Born</th>\n",
      "<td><span class=\"nickname\">Stephen William Hawking</span><br/>\n",
      "<span style=\"display:none\">(<span class=\"bday\">1942-01-08</span>)</span>8 January 1942<br/>\n",
      "<span class=\"birthplace\"><a href=\"/wiki/Oxford\" title=\"Oxford\">Oxford</a>, England</span></td>\n",
      "</tr>\n",
      "<tr>\n",
      "<th scope=\"row\">Died</th>\n",
      "<td>14 March 2018<span style=\"display:none\">(2018-03-14)</span> (aged 76)<br/>\n",
      "<span class=\"deathplace\"><a href=\"/wiki/Cambridge\" title=\"Cambridge\">Cambridge</a>, England</span></td>\n",
      "</tr>\n",
      "<tr>\n",
      "<th scope=\"row\">Resting place</th>\n",
      "<td class=\"label\"><a href=\"/wiki/Westminster_Abbey\" title=\"Westminster Abbey\">Westminster Abbey</a>, <a href=\"/wiki/City_of_Westminster\" title=\"City of Westminster\">Westminster</a>, <a href=\"/wiki/London\" title=\"London\">London</a><sup class=\"reference\" id=\"cite_ref-HawkingWestminster_1-0\"><a href=\"#cite_note-HawkingWestminster-1\">[1]</a></sup></td>\n",
      "</tr>\n",
      "<tr>\n",
      "<th scope=\"row\">Education</th>\n",
      "<td><a href=\"/wiki/St_Albans_School,_Hertfordshire\" title=\"St Albans School, Hertfordshire\">St Albans School, Hertfordshire</a></td>\n",
      "</tr>\n",
      "<tr>\n",
      "<th scope=\"row\">Alma mater</th>\n",
      "<td>\n",
      "<div class=\"plainlist\">\n",
      "<ul>\n",
      "<li><a href=\"/wiki/University_of_Oxford\" title=\"University of Oxford\">University of Oxford</a> (BA)</li>\n",
      "<li><a href=\"/wiki/University_of_Cambridge\" title=\"University of Cambridge\">University of Cambridge</a> (MA, PhD)</li>\n",
      "</ul>\n",
      "</div>\n",
      "</td>\n",
      "</tr>\n",
      "<tr>\n",
      "<th scope=\"row\">Known for</th>\n",
      "<td>\n",
      "<div class=\"plainlist\">\n",
      "<ul>\n",
      "<li><a href=\"/wiki/Hawking_radiation\" title=\"Hawking radiation\">Hawking radiation</a></li>\n",
      "<li><i><a href=\"/wiki/A_Brief_History_of_Time\" title=\"A Brief History of Time\">A Brief History of Time</a></i></li>\n",
      "<li><a href=\"/wiki/Penrose%E2%80%93Hawking_singularity_theorems\" title=\"Penrose–Hawking singularity theorems\">Penrose–Hawking theorems</a></li>\n",
      "<li><a class=\"mw-redirect\" href=\"/wiki/Bekenstein%E2%80%93Hawking_formula\" title=\"Bekenstein–Hawking formula\">Bekenstein–Hawking formula</a></li>\n",
      "<li><a href=\"/wiki/Hawking_energy\" title=\"Hawking energy\">Hawking energy</a></li>\n",
      "<li><a href=\"/wiki/Gibbons%E2%80%93Hawking_ansatz\" title=\"Gibbons–Hawking ansatz\">Gibbons–Hawking ansatz</a></li>\n",
      "<li><a href=\"/wiki/Gibbons%E2%80%93Hawking_effect\" title=\"Gibbons–Hawking effect\">Gibbons–Hawking effect</a></li>\n",
      "<li><a href=\"/wiki/Gibbons%E2%80%93Hawking_space\" title=\"Gibbons–Hawking space\">Gibbons–Hawking space</a></li>\n",
      "<li><a href=\"/wiki/Gibbons%E2%80%93Hawking%E2%80%93York_boundary_term\" title=\"Gibbons–Hawking–York boundary term\">Gibbons–Hawking–York boundary term</a></li>\n",
      "<li><a href=\"/wiki/Thorne%E2%80%93Hawking%E2%80%93Preskill_bet\" title=\"Thorne–Hawking–Preskill bet\">Thorne–Hawking–Preskill bet</a></li>\n",
      "</ul>\n",
      "</div>\n",
      "</td>\n",
      "</tr>\n",
      "<tr>\n",
      "<th scope=\"row\"><span class=\"nowrap\">Spouse(s)</span></th>\n",
      "<td>\n",
      "<div class=\"plainlist\">\n",
      "<ul>\n",
      "<li><span itemscope=\"itemscope\" itemtype=\"https://en.wikipedia.org/wiki/Stephen Hawking\"><a href=\"/wiki/Jane_Hawking\" title=\"Jane Hawking\">Jane Wilde</a><br/>\n",
      "(<abbr title=\"married\">m.</abbr> <abbr title=\"14 July 1965\">1965</abbr>; <abbr title=\"divorced\">div.</abbr> 1995)</span></li>\n",
      "<li><span itemscope=\"itemscope\" itemtype=\"https://en.wikipedia.org/wiki/Stephen Hawking\">Elaine Mason<br/>\n",
      "(<abbr title=\"married\">m.</abbr> <abbr title=\"September 1995\">1995</abbr>; <abbr title=\"divorced\">div.</abbr> 2006)</span></li>\n",
      "</ul>\n",
      "</div>\n",
      "</td>\n",
      "</tr>\n",
      "<tr>\n",
      "<th scope=\"row\">Children</th>\n",
      "<td>3, including <a href=\"/wiki/Lucy_Hawking\" title=\"Lucy Hawking\">Lucy Hawking</a></td>\n",
      "</tr>\n",
      "<tr>\n",
      "<th scope=\"row\">Awards</th>\n",
      "<td>\n",
      "<div class=\"plainlist\">\n",
      "<ul>\n",
      "<li><a href=\"/wiki/Adams_Prize\" title=\"Adams Prize\">Adams Prize</a> (1966)</li>\n",
      "<li><a href=\"/wiki/Eddington_Medal\" title=\"Eddington Medal\">Eddington Medal</a> (1975)</li>\n",
      "<li><a href=\"/wiki/Maxwell_Medal_and_Prize\" title=\"Maxwell Medal and Prize\">Maxwell Medal and Prize</a> (1976)</li>\n",
      "<li><a href=\"/wiki/Dannie_Heineman_Prize_for_Mathematical_Physics\" title=\"Dannie Heineman Prize for Mathematical Physics\">Heineman Prize</a> (1976)</li>\n",
      "<li><a href=\"/wiki/Hughes_Medal\" title=\"Hughes Medal\">Hughes Medal</a> (1976)</li>\n",
      "<li><a href=\"/wiki/Albert_Einstein_Award\" title=\"Albert Einstein Award\">Albert Einstein Award</a> (1978)</li>\n",
      "<li><a href=\"/wiki/Gold_Medal_of_the_Royal_Astronomical_Society\" title=\"Gold Medal of the Royal Astronomical Society\">RAS Gold Medal</a> (1985)</li>\n",
      "<li><a class=\"mw-redirect\" href=\"/wiki/Dirac_Prize#Paul_Dirac_Medal_and_Prize\" title=\"Dirac Prize\">Dirac Medal</a> (1987)</li>\n",
      "<li><a href=\"/wiki/Wolf_Prize\" title=\"Wolf Prize\">Wolf Prize</a> (1988)</li>\n",
      "<li><a class=\"mw-redirect\" href=\"/wiki/Prince_of_Asturias_Awards\" title=\"Prince of Asturias Awards\">Prince of Asturias Award</a> (1989)</li>\n",
      "<li><a href=\"/wiki/Andrew_Gemant_Award\" title=\"Andrew Gemant Award\">Andrew Gemant Award</a> (1998)</li>\n",
      "<li><a href=\"/wiki/Naylor_Prize_and_Lectureship\" title=\"Naylor Prize and Lectureship\">Naylor Prize and Lectureship</a> (1999)</li>\n",
      "<li><a href=\"/wiki/Lilienfeld_Prize\" title=\"Lilienfeld Prize\">Lilienfeld Prize</a> (1999)</li>\n",
      "<li><a href=\"/wiki/Albert_Medal_(Royal_Society_of_Arts)\" title=\"Albert Medal (Royal Society of Arts)\">Albert Medal</a> (1999)</li>\n",
      "<li><a href=\"/wiki/Copley_Medal\" title=\"Copley Medal\">Copley Medal</a> (2006)</li>\n",
      "<li><a href=\"/wiki/Presidential_Medal_of_Freedom\" title=\"Presidential Medal of Freedom\">Presidential Medal of Freedom</a> (2009)</li>\n",
      "<li><a href=\"/wiki/Breakthrough_Prize_in_Fundamental_Physics\" title=\"Breakthrough Prize in Fundamental Physics\">Breakthrough Prize in Fundamental Physics</a> (2012)</li>\n",
      "<li><a href=\"/wiki/BBVA_Foundation_Frontiers_of_Knowledge_Award\" title=\"BBVA Foundation Frontiers of Knowledge Award\">BBVA Foundation Frontiers of Knowledge Award</a> (2015)</li>\n",
      "</ul>\n",
      "</div>\n",
      "</td>\n",
      "</tr>\n",
      "<tr>\n",
      "<td colspan=\"2\" style=\"text-align:center\"><b>Scientific career</b></td>\n",
      "</tr>\n",
      "<tr>\n",
      "<th scope=\"row\">Fields</th>\n",
      "<td class=\"category\">\n",
      "<div class=\"plainlist\">\n",
      "<ul>\n",
      "<li><a href=\"/wiki/General_relativity\" title=\"General relativity\">General relativity</a></li>\n",
      "<li><a href=\"/wiki/Quantum_gravity\" title=\"Quantum gravity\">Quantum gravity</a></li>\n",
      "</ul>\n",
      "</div>\n",
      "</td>\n",
      "</tr>\n",
      "<tr>\n",
      "<th scope=\"row\">Institutions</th>\n",
      "<td>\n",
      "<div class=\"plainlist\">\n",
      "<ul>\n",
      "<li><a href=\"/wiki/Gonville_and_Caius_College,_Cambridge\" title=\"Gonville and Caius College, Cambridge\">Gonville and Caius College, Cambridge</a></li>\n",
      "<li><a href=\"/wiki/California_Institute_of_Technology\" title=\"California Institute of Technology\">California Institute of Technology</a></li>\n",
      "<li><a href=\"/wiki/Perimeter_Institute_for_Theoretical_Physics\" title=\"Perimeter Institute for Theoretical Physics\">Perimeter Institute for Theoretical Physics</a></li>\n",
      "</ul>\n",
      "</div>\n",
      "</td>\n",
      "</tr>\n",
      "<tr>\n",
      "<th scope=\"row\"><a href=\"/wiki/Thesis\" title=\"Thesis\">Thesis</a></th>\n",
      "<td><a class=\"external text\" href=\"https://doi.org/10.17863/CAM.11283\" rel=\"nofollow\"><i>Properties of Expanding Universes</i></a> <span style=\"font-size:97%;\">(1966)</span></td>\n",
      "</tr>\n",
      "<tr>\n",
      "<th scope=\"row\"><a href=\"/wiki/Doctoral_advisor\" title=\"Doctoral advisor\">Doctoral advisor</a></th>\n",
      "<td><a class=\"mw-redirect\" href=\"/wiki/Dennis_William_Sciama\" title=\"Dennis William Sciama\">Dennis Sciama</a><sup class=\"reference\" id=\"cite_ref-mathgene_2-0\"><a href=\"#cite_note-mathgene-2\">[2]</a></sup></td>\n",
      "</tr>\n",
      "<tr>\n",
      "<th scope=\"row\">Other academic advisors</th>\n",
      "<td>Robert Berman<sup class=\"reference\" id=\"cite_ref-FOOTNOTEFerguson201129_3-0\"><a href=\"#cite_note-FOOTNOTEFerguson201129-3\">[3]</a></sup></td>\n",
      "</tr>\n",
      "<tr>\n",
      "<th scope=\"row\">Doctoral students</th>\n",
      "<td>\n",
      "<div class=\"plainlist\">\n",
      "<ul>\n",
      "<li><a href=\"/wiki/Bruce_Allen_(physicist)\" title=\"Bruce Allen (physicist)\">Bruce Allen</a><sup class=\"reference\" id=\"cite_ref-mathgene_2-1\"><a href=\"#cite_note-mathgene-2\">[2]</a></sup><sup class=\"reference\" id=\"cite_ref-allenphd_4-0\"><a href=\"#cite_note-allenphd-4\">[4]</a></sup></li>\n",
      "<li><a href=\"/wiki/Raphael_Bousso\" title=\"Raphael Bousso\">Raphael Bousso</a><sup class=\"reference\" id=\"cite_ref-mathgene_2-2\"><a href=\"#cite_note-mathgene-2\">[2]</a></sup><sup class=\"reference\" id=\"cite_ref-boussophd_5-0\"><a href=\"#cite_note-boussophd-5\">[5]</a></sup></li>\n",
      "<li><a href=\"/wiki/Bernard_Carr\" title=\"Bernard Carr\">Bernard Carr</a><sup class=\"reference\" id=\"cite_ref-mathgene_2-3\"><a href=\"#cite_note-mathgene-2\">[2]</a></sup><sup class=\"reference\" id=\"cite_ref-carrphd_6-0\"><a href=\"#cite_note-carrphd-6\">[6]</a></sup></li>\n",
      "<li><a href=\"/wiki/Fay_Dowker\" title=\"Fay Dowker\">Fay Dowker</a><sup class=\"reference\" id=\"cite_ref-mathgene_2-4\"><a href=\"#cite_note-mathgene-2\">[2]</a></sup><sup class=\"reference\" id=\"cite_ref-dowkerphd_7-0\"><a href=\"#cite_note-dowkerphd-7\">[7]</a></sup></li>\n",
      "<li><a class=\"extiw\" href=\"https://fr.wikipedia.org/wiki/Christophe_Galfard\" title=\"fr:Christophe Galfard\">Christophe Galfard</a><sup class=\"reference\" id=\"cite_ref-galfardphd_8-0\"><a href=\"#cite_note-galfardphd-8\">[8]</a></sup></li>\n",
      "<li><a href=\"/wiki/Gary_Gibbons\" title=\"Gary Gibbons\">Gary Gibbons</a><sup class=\"reference\" id=\"cite_ref-mathgene_2-5\"><a href=\"#cite_note-mathgene-2\">[2]</a></sup><sup class=\"reference\" id=\"cite_ref-gibbonsphd_9-0\"><a href=\"#cite_note-gibbonsphd-9\">[9]</a></sup></li>\n",
      "<li><a href=\"/wiki/Thomas_Hertog\" title=\"Thomas Hertog\">Thomas Hertog</a><sup class=\"reference\" id=\"cite_ref-mathgene_2-6\"><a href=\"#cite_note-mathgene-2\">[2]</a></sup><sup class=\"reference\" id=\"cite_ref-hertogphd_10-0\"><a href=\"#cite_note-hertogphd-10\">[10]</a></sup></li>\n",
      "<li><a href=\"/wiki/Raymond_Laflamme\" title=\"Raymond Laflamme\">Raymond Laflamme</a><sup class=\"reference\" id=\"cite_ref-mathgene_2-7\"><a href=\"#cite_note-mathgene-2\">[2]</a></sup><sup class=\"reference\" id=\"cite_ref-laflammephd_11-0\"><a href=\"#cite_note-laflammephd-11\">[11]</a></sup></li>\n",
      "<li><a href=\"/wiki/Don_Page_(physicist)\" title=\"Don Page (physicist)\">Don Page</a><sup class=\"reference\" id=\"cite_ref-mathgene_2-8\"><a href=\"#cite_note-mathgene-2\">[2]</a></sup><sup class=\"reference\" id=\"cite_ref-pagephd_12-0\"><a href=\"#cite_note-pagephd-12\">[12]</a></sup></li>\n",
      "<li><a href=\"/wiki/Malcolm_Perry_(physicist)\" title=\"Malcolm Perry (physicist)\">Malcolm Perry</a><sup class=\"reference\" id=\"cite_ref-mathgene_2-9\"><a href=\"#cite_note-mathgene-2\">[2]</a></sup><sup class=\"reference\" id=\"cite_ref-perryphd_13-0\"><a href=\"#cite_note-perryphd-13\">[13]</a></sup></li>\n",
      "<li><a href=\"/wiki/Marika_Taylor\" title=\"Marika Taylor\">Marika Taylor</a><sup class=\"reference\" id=\"cite_ref-mathgene_2-10\"><a href=\"#cite_note-mathgene-2\">[2]</a></sup><sup class=\"reference\" id=\"cite_ref-taylorphd_14-0\"><a href=\"#cite_note-taylorphd-14\">[14]</a></sup></li>\n",
      "<li><a href=\"/wiki/Alan_Yuille\" title=\"Alan Yuille\">Alan Yuille</a></li>\n",
      "<li><a href=\"/wiki/Wu_Zhongchao\" title=\"Wu Zhongchao\">Wu Zhongchao</a><sup class=\"reference\" id=\"cite_ref-mathgene_2-11\"><a href=\"#cite_note-mathgene-2\">[2]</a></sup><sup class=\"reference\" id=\"cite_ref-wuphd_15-0\"><a href=\"#cite_note-wuphd-15\">[15]</a></sup></li>\n",
      "<li>29 others<sup class=\"reference\" id=\"cite_ref-mathgene_2-12\"><a href=\"#cite_note-mathgene-2\">[2]</a></sup></li>\n",
      "</ul>\n",
      "</div>\n",
      "</td>\n",
      "</tr>\n",
      "<tr style=\"display:none\">\n",
      "<td colspan=\"2\"></td>\n",
      "</tr>\n",
      "<tr>\n",
      "<th scope=\"row\">Website</th>\n",
      "<td><span class=\"url\"><a class=\"external text\" href=\"http://hawking.org.uk\" rel=\"nofollow\">hawking<wbr/>.org<wbr/>.uk</a></span></td>\n",
      "</tr>\n",
      "<tr>\n",
      "<th colspan=\"2\" style=\"text-align:center\">Signature</th>\n",
      "</tr>\n",
      "<tr>\n",
      "<td colspan=\"2\" style=\"text-align:center\"><a class=\"image\" href=\"/wiki/File:Hawkingsig.svg\"><img alt=\"Hawkingsig.svg\" data-file-height=\"243\" data-file-width=\"384\" height=\"95\" src=\"//upload.wikimedia.org/wikipedia/commons/thumb/c/c9/Hawkingsig.svg/150px-Hawkingsig.svg.png\" srcset=\"//upload.wikimedia.org/wikipedia/commons/thumb/c/c9/Hawkingsig.svg/225px-Hawkingsig.svg.png 1.5x, //upload.wikimedia.org/wikipedia/commons/thumb/c/c9/Hawkingsig.svg/300px-Hawkingsig.svg.png 2x\" width=\"150\"/></a></td>\n",
      "</tr>\n",
      "</table>]\n"
     ]
    }
   ],
   "source": [
    "page_soup = soup(page_html,\"html.parser\")\n",
    "containers = page_soup.findAll(\"table\",{\"class\":\"infobox biography vcard\"})\n",
    "len(containers)\n",
    "print(containers)"
   ]
  },
  {
   "cell_type": "code",
   "execution_count": 5,
   "metadata": {},
   "outputs": [
    {
     "data": {
      "text/plain": [
       "171"
      ]
     },
     "execution_count": 5,
     "metadata": {},
     "output_type": "execute_result"
    }
   ],
   "source": [
    "filename = \"products.csv\"\n",
    "\n",
    "f = open(filename,\"w\")\n",
    "header = \"Born, Died, Resting place,Education,Alma mater,Known for,Spouse(s),Children,Awards,\\\n",
    "Scientific career Fields,Institutions,Other academic advisors,Doctoral students,Website\\n\"\n",
    "f.write(header)"
   ]
  },
  {
   "cell_type": "code",
   "execution_count": 32,
   "metadata": {},
   "outputs": [
    {
     "name": "stdout",
     "output_type": "stream",
     "text": [
      "Stephen Hawking\n"
     ]
    },
    {
     "ename": "AttributeError",
     "evalue": "'NoneType' object has no attribute 'span'",
     "output_type": "error",
     "traceback": [
      "\u001b[1;31m---------------------------------------------------------------------------\u001b[0m",
      "\u001b[1;31mAttributeError\u001b[0m                            Traceback (most recent call last)",
      "\u001b[1;32m<ipython-input-32-80a71f60af89>\u001b[0m in \u001b[0;36m<module>\u001b[1;34m()\u001b[0m\n\u001b[0;32m      1\u001b[0m \u001b[1;32mfor\u001b[0m \u001b[0mtr\u001b[0m \u001b[1;32min\u001b[0m \u001b[0mcontainers\u001b[0m\u001b[1;33m[\u001b[0m\u001b[1;36m0\u001b[0m\u001b[1;33m]\u001b[0m\u001b[1;33m.\u001b[0m\u001b[0mfindAll\u001b[0m\u001b[1;33m(\u001b[0m\u001b[1;34m'tr'\u001b[0m\u001b[1;33m)\u001b[0m\u001b[1;33m:\u001b[0m\u001b[1;33m\u001b[0m\u001b[0m\n\u001b[0;32m      2\u001b[0m     \u001b[1;31m#popular = [td for td in tr.stripped_strings]\u001b[0m\u001b[1;33m\u001b[0m\u001b[1;33m\u001b[0m\u001b[0m\n\u001b[1;32m----> 3\u001b[1;33m     \u001b[1;32mif\u001b[0m \u001b[0mtr\u001b[0m\u001b[1;33m.\u001b[0m\u001b[0mth\u001b[0m\u001b[1;33m.\u001b[0m\u001b[0mspan\u001b[0m\u001b[1;33m.\u001b[0m\u001b[0mtext\u001b[0m\u001b[1;33m!=\u001b[0m \u001b[1;32mNone\u001b[0m\u001b[1;33m:\u001b[0m\u001b[1;33m\u001b[0m\u001b[0m\n\u001b[0m\u001b[0;32m      4\u001b[0m         \u001b[0mprint\u001b[0m\u001b[1;33m(\u001b[0m\u001b[0mtr\u001b[0m\u001b[1;33m.\u001b[0m\u001b[0mth\u001b[0m\u001b[1;33m.\u001b[0m\u001b[0mspan\u001b[0m\u001b[1;33m.\u001b[0m\u001b[0mtext\u001b[0m\u001b[1;33m)\u001b[0m\u001b[1;33m\u001b[0m\u001b[0m\n\u001b[0;32m      5\u001b[0m     \u001b[1;32melif\u001b[0m \u001b[0mtr\u001b[0m\u001b[1;33m.\u001b[0m\u001b[0mtd\u001b[0m\u001b[1;33m.\u001b[0m\u001b[0mspan\u001b[0m\u001b[1;33m.\u001b[0m\u001b[0mtext\u001b[0m \u001b[1;33m!=\u001b[0m \u001b[1;32mNone\u001b[0m\u001b[1;33m:\u001b[0m\u001b[1;33m\u001b[0m\u001b[0m\n",
      "\u001b[1;31mAttributeError\u001b[0m: 'NoneType' object has no attribute 'span'"
     ]
    }
   ],
   "source": [
    "for tr in containers[0].findAll('tr'):\n",
    "    #popular = [td for td in tr.stripped_strings]\n",
    "    if tr.th.span.text!= None:\n",
    "        print(tr.th.span.text)\n",
    "    elif tr.td.span.text != None:\n",
    "        print(tr.td.span.text)\n",
    "        \n",
    "\n"
   ]
  },
  {
   "cell_type": "code",
   "execution_count": null,
   "metadata": {
    "collapsed": true
   },
   "outputs": [],
   "source": []
  }
 ],
 "metadata": {
  "kernelspec": {
   "display_name": "Python 3",
   "language": "python",
   "name": "python3"
  },
  "language_info": {
   "codemirror_mode": {
    "name": "ipython",
    "version": 3
   },
   "file_extension": ".py",
   "mimetype": "text/x-python",
   "name": "python",
   "nbconvert_exporter": "python",
   "pygments_lexer": "ipython3",
   "version": "3.6.3"
  }
 },
 "nbformat": 4,
 "nbformat_minor": 2
}
